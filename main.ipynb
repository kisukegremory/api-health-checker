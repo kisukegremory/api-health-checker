{
 "cells": [
  {
   "cell_type": "code",
   "execution_count": 101,
   "id": "6a9e3d6a",
   "metadata": {},
   "outputs": [],
   "source": [
    "from time import sleep"
   ]
  },
  {
   "cell_type": "code",
   "execution_count": 102,
   "id": "8dc9e70d",
   "metadata": {},
   "outputs": [],
   "source": [
    "from endpoint_listener import Listener\n",
    "from watcher import EndpointWatcher\n",
    "from db_store import SqliteDataStore"
   ]
  },
  {
   "cell_type": "code",
   "execution_count": 103,
   "id": "dfd716e9",
   "metadata": {},
   "outputs": [],
   "source": [
    "data_storage = SqliteDataStore()\n",
    "#data_storage.createTableIfNotExists()"
   ]
  },
  {
   "cell_type": "code",
   "execution_count": 104,
   "id": "9fb1b963",
   "metadata": {},
   "outputs": [],
   "source": [
    "s = Listener(url=\"https://viacep.com.br/ws/01001000/json/\")\n",
    "#s = Listener(url=\"https://pokeapi.co/api/v2/pokemon/ditto\")\n",
    "watcher = EndpointWatcher(s)"
   ]
  },
  {
   "cell_type": "code",
   "execution_count": 107,
   "id": "3d14ba55",
   "metadata": {},
   "outputs": [],
   "source": [
    "for _ in range(1,10):\n",
    "    response = watcher.watch()\n",
    "    data_storage.storeData(tuple(response.values()))\n",
    "    sleep(5)"
   ]
  },
  {
   "cell_type": "code",
   "execution_count": 106,
   "id": "f7fa3122",
   "metadata": {},
   "outputs": [
    {
     "name": "stdout",
     "output_type": "stream",
     "text": [
      "(None, 'https://viacep.com.br/ws/01001000/json/', 200, 0.431286, '2021-08-02 16:36:17.141072')\n"
     ]
    }
   ],
   "source": [
    "for col in data_storage.con.execute(\"select * from analytics\"):\n",
    "    print(col)"
   ]
  },
  {
   "cell_type": "code",
   "execution_count": 109,
   "id": "1ba7528f",
   "metadata": {},
   "outputs": [],
   "source": [
    "data_storage.con.close()"
   ]
  }
 ],
 "metadata": {
  "kernelspec": {
   "display_name": "Python 3 (ipykernel)",
   "language": "python",
   "name": "python3"
  },
  "language_info": {
   "codemirror_mode": {
    "name": "ipython",
    "version": 3
   },
   "file_extension": ".py",
   "mimetype": "text/x-python",
   "name": "python",
   "nbconvert_exporter": "python",
   "pygments_lexer": "ipython3",
   "version": "3.9.2"
  },
  "toc": {
   "base_numbering": 1,
   "nav_menu": {},
   "number_sections": true,
   "sideBar": true,
   "skip_h1_title": false,
   "title_cell": "Table of Contents",
   "title_sidebar": "Contents",
   "toc_cell": false,
   "toc_position": {},
   "toc_section_display": true,
   "toc_window_display": false
  }
 },
 "nbformat": 4,
 "nbformat_minor": 5
}
